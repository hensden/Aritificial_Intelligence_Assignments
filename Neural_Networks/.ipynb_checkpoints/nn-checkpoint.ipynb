{
 "cells": [
  {
   "cell_type": "code",
   "execution_count": 1,
   "metadata": {},
   "outputs": [],
   "source": [
    "import numpy as np\n",
    "from tqdm import tqdm"
   ]
  },
  {
   "cell_type": "code",
   "execution_count": 2,
   "metadata": {},
   "outputs": [],
   "source": [
    "def get_data():\n",
    "    TR = np.loadtxt( open(\"train_image.csv\", \"rb\"), delimiter=\",\" )\n",
    "    TRL= np.loadtxt( open(\"train_label.csv\", \"rb\"))\n",
    "    TS = np.loadtxt( open(\"test_image.csv\", \"rb\"), delimiter=\",\" )\n",
    "    TSL= np.loadtxt( open(\"test_label.csv\", \"rb\"))\n",
    "    return TR/255.0, TS/255.0, TRL, TSL\n",
    "    "
   ]
  },
  {
   "cell_type": "code",
   "execution_count": 3,
   "metadata": {},
   "outputs": [],
   "source": [
    "x_train, x_test, y_train, y_test = get_data()"
   ]
  },
  {
   "cell_type": "code",
   "execution_count": 4,
   "metadata": {},
   "outputs": [],
   "source": [
    "class Net:\n",
    "    def __init__(self, lr, nI, nH, nO, epochs, a, m):\n",
    "        self.lr = lr\n",
    "        self.nI = nI\n",
    "        self.nH = nH\n",
    "        self.nO = nO\n",
    "        self.epochs = epochs\n",
    "        self.A = a\n",
    "        self.m = m\n",
    "        \n",
    "        np.random.seed(24)\n",
    "        self.W1 = np.random.randn(nI, nH)/10.0\n",
    "        self.W2 = np.random.randn(nH, nO)/10.0\n",
    "        self.B  = np.random.randn(nH)\n",
    "    \n",
    "    def act1(self, z):\n",
    "        z[z<0] = 0\n",
    "        return z\n",
    "\n",
    "    def act2(self, z):\n",
    "        N = np.exp(z)\n",
    "        return N/np.sum(N, axis=1).reshape(-1,1)\n",
    "\n",
    "    def test(self, X):\n",
    "        Z1 = np.add(np.matmul(X, self.W1), self.B)\n",
    "        A1 = self.act1(Z1)\n",
    "\n",
    "        Z2 = np.matmul(A1, self.W2)\n",
    "        A2 = self.act2(Z2)\n",
    "        return A2\n",
    "\n",
    "    def train(self, X, Y):\n",
    "\n",
    "        Z1 = np.add(np.matmul(X, self.W1), self.B)\n",
    "        A1 = self.act1(Z1)\n",
    "\n",
    "        Z2 = np.matmul(A1, self.W2)\n",
    "        A2 = self.act2(Z2)\n",
    "\n",
    "        GT = (Y[:,np.newaxis] == np.arange(10))\n",
    "        error = A2 - GT\n",
    "\n",
    "\n",
    "        dW2 = np.matmul(A1.T, error)/X.shape[0] + self.A*self.W2\n",
    "        dB = np.matmul(error, self.W2.T)*(Z1>0)\n",
    "        dW1 = np.matmul(X.T, dB)/X.shape[0] + self.A*self.W1\n",
    "\n",
    "        return dW1, dW2, np.mean(dB, axis=0)\n",
    "\n",
    "    def loss(self, Y, GT):\n",
    "        one_hot = (GT[:, np.newaxis] == np.arange(10))\n",
    "        cross_entropy = -np.mean(np.sum((np.log(Y) * one_hot), axis=1))\n",
    "        return cross_entropy\n",
    "    \n",
    "    def gradient_descent(self, grad, dX):\n",
    "        tmp = (1-self.m)*np.sum(np.square(dX)) + self.m*grad\n",
    "        return tmp, dX*(self.lr/np.sqrt(tmp+0.001))\n",
    "    \n",
    "    \n",
    "    def run(self, x_train, y_train):\n",
    "        \n",
    "        m1,m2,m3=1,1,1\n",
    "        for i in tqdm(range(self.epochs)):\n",
    "            dW1, dW2, dB = self.train(x_train, y_train)\n",
    "\n",
    "            m1, update = self.gradient_descent(m1, dW1)\n",
    "            self.W1 -= update\n",
    "\n",
    "            m2, update = self.gradient_descent(m2, dW2)\n",
    "            self.W2 -= update\n",
    "\n",
    "            m3, update = self.gradient_descent(m3, dB)\n",
    "            self.B -= update\n",
    "\n",
    "            if i % 100 == 0:\n",
    "                m1,m2,m3=1,1,1\n",
    "        \n",
    "\n"
   ]
  },
  {
   "cell_type": "code",
   "execution_count": null,
   "metadata": {},
   "outputs": [
    {
     "name": "stderr",
     "output_type": "stream",
     "text": [
      " 11%|█         | 28/250 [00:23<03:16,  1.13it/s]"
     ]
    }
   ],
   "source": [
    "model = Net(lr=0.5, nI=784, nH=256, nO=10, epochs=250, a=1e-6, m=0.99)\n",
    "model.run(x_train, y_train)"
   ]
  },
  {
   "cell_type": "code",
   "execution_count": null,
   "metadata": {},
   "outputs": [],
   "source": [
    "y_pred_final = model.test(x_train)\n",
    "print(\"Final cross-entropy loss is {:.8}\".format(model.loss(y_pred_final,y_train)))\n",
    "print(\"Final training accuracy is {:.4%}\".format(np.mean(np.argmax(y_pred_final, axis=1)== y_train)))\n",
    "predicted = model.test(x_test)\n",
    "predicted, gt = np.argmax(predicted, axis=1).astype(np.int), y_test.astype(np.int)\n",
    "print(100*(predicted==gt).mean())"
   ]
  }
 ],
 "metadata": {
  "kernelspec": {
   "display_name": "Python 3",
   "language": "python",
   "name": "python3"
  },
  "language_info": {
   "codemirror_mode": {
    "name": "ipython",
    "version": 3
   },
   "file_extension": ".py",
   "mimetype": "text/x-python",
   "name": "python",
   "nbconvert_exporter": "python",
   "pygments_lexer": "ipython3",
   "version": "3.6.9"
  }
 },
 "nbformat": 4,
 "nbformat_minor": 2
}
