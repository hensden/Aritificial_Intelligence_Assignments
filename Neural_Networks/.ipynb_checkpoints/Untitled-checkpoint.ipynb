{
 "cells": [
  {
   "cell_type": "code",
   "execution_count": 1,
   "metadata": {},
   "outputs": [
    {
     "name": "stderr",
     "output_type": "stream",
     "text": [
      "In /home/hensden/.local/lib/python3.6/site-packages/matplotlib/mpl-data/stylelib/_classic_test.mplstyle: \n",
      "The savefig.frameon rcparam was deprecated in Matplotlib 3.1 and will be removed in 3.3.\n",
      "In /home/hensden/.local/lib/python3.6/site-packages/matplotlib/mpl-data/stylelib/_classic_test.mplstyle: \n",
      "The verbose.level rcparam was deprecated in Matplotlib 3.1 and will be removed in 3.3.\n",
      "In /home/hensden/.local/lib/python3.6/site-packages/matplotlib/mpl-data/stylelib/_classic_test.mplstyle: \n",
      "The verbose.fileo rcparam was deprecated in Matplotlib 3.1 and will be removed in 3.3.\n"
     ]
    }
   ],
   "source": [
    "%matplotlib inline\n",
    "import numpy as np\n",
    "import matplotlib.pyplot as plt\n",
    "\n",
    "image_size = 28 # width and length\n",
    "no_of_different_labels = 10 #  i.e. 0, 1, 2, 3, ..., 9\n",
    "image_pixels = image_size * image_size\n"
   ]
  },
  {
   "cell_type": "code",
   "execution_count": 2,
   "metadata": {},
   "outputs": [],
   "source": [
    "def load_data(test=None):\n",
    "    train_data = np.loadtxt(\"train_image.csv\", delimiter=\",\")\n",
    "    test_data = np.loadtxt(\"test_image.csv\",delimiter=\",\")\n",
    "    train_labels = np.loadtxt(\"train_label.csv\")\n",
    "    if test is None:\n",
    "        return train_data, test_data, train_labels\n",
    "    test_labels = np.loadtxt(\"test_label.csv\")\n",
    "    return train_data, test_data, train_labels, test_labels\n",
    "        \n",
    "\n",
    "def lab_2_onehot(labels):\n",
    "    vecs = 0.01*np.ones((labels.shape[0], 10))\n",
    "    for i in range(labels.shape[0]):\n",
    "        vecs[i][int(labels[i])] = 0.99\n",
    "    return vecs"
   ]
  },
  {
   "cell_type": "code",
   "execution_count": 4,
   "metadata": {},
   "outputs": [],
   "source": [
    "train_imgs, test_imgs, train_labels, test_labels = load_data(test=True)\n",
    "# train_labels_one_hot = lab_2_onehot(train_labels)\n",
    "# test_labels_one_hot = lab_2_onehot(test_labels)"
   ]
  },
  {
   "cell_type": "code",
   "execution_count": null,
   "metadata": {},
   "outputs": [],
   "source": [
    "class Layer:\n",
    "    def __init__(self, n1, n2):\n",
    "        self.n1 = n1\n",
    "        self.w = np.random.randn(n1, n2)/np.sqrt(n2)\n",
    "        self.b = np.random.normal(1, n2)/np.sqrt(n2)\n",
    "\n",
    "class Net:\n",
    "    def __init__(self, n_layers, nH_shape, Z_shape):\n",
    "        \n",
    "        \n",
    "        \n",
    "        \n",
    "    def sigmoid(self, Y, deriv=False):\n",
    "        sig = 1/(1+np.exp(-Y))\n",
    "        if deriv:\n",
    "            return sig*(1-sig)\n",
    "        return sig\n",
    "    \n",
    "    def softmax(self, Y):\n",
    "        return np.exp(Y)/(np.sum(np.exp(Y)))\n",
    "    \n",
    "    def forward(self, X):\n",
    "        \n",
    "    \n",
    "    def train(self, X):\n",
    "        batch_size = 32\n",
    "        learning_rate = 0.01\n",
    "        epochs = 15\n",
    "        for epoch in range(epochs):\n",
    "            for i in range(0, len(X), batch_size):\n",
    "                if i+batch_size > len(X):\n",
    "                    break\n",
    "                self.grad = 0\n",
    "                self.forward(X[i:i+batch_size])\n",
    "                self.grade(Y[i:i+batch_size])\n",
    "                self.backward(Y[i:i+batch_size])\n",
    "            self.grad /= batch_size\n",
    "            print(\"Epoch: {}, Error: {}\".format(epoch, self.grad))\n",
    "        \n",
    "        \n",
    "        "
   ]
  },
  {
   "cell_type": "code",
   "execution_count": null,
   "metadata": {},
   "outputs": [],
   "source": []
  },
  {
   "cell_type": "code",
   "execution_count": null,
   "metadata": {},
   "outputs": [],
   "source": []
  }
 ],
 "metadata": {
  "kernelspec": {
   "display_name": "Python 3",
   "language": "python",
   "name": "python3"
  },
  "language_info": {
   "codemirror_mode": {
    "name": "ipython",
    "version": 3
   },
   "file_extension": ".py",
   "mimetype": "text/x-python",
   "name": "python",
   "nbconvert_exporter": "python",
   "pygments_lexer": "ipython3",
   "version": "3.6.9"
  }
 },
 "nbformat": 4,
 "nbformat_minor": 2
}
